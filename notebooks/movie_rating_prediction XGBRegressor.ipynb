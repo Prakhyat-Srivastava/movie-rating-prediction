{
 "cells": [
  {
   "cell_type": "code",
   "execution_count": 1,
   "metadata": {},
   "outputs": [],
   "source": [
    "import pandas as pd\n",
    "import numpy as np\n",
    "import re\n",
    "from sklearn.model_selection import train_test_split, RandomizedSearchCV\n",
    "from sklearn.metrics import mean_squared_error, r2_score\n",
    "from sklearn.preprocessing import MultiLabelBinarizer\n",
    "from xgboost import XGBRegressor"
   ]
  },
  {
   "cell_type": "code",
   "execution_count": 4,
   "metadata": {},
   "outputs": [],
   "source": [
    "df = pd.read_csv(r'C:\\Users\\prakh\\Desktop\\Immersivify Project\\movie-rating-prediction\\data\\IMDb Movies India.csv', \n",
    "                 encoding='cp1252')\n"
   ]
  },
  {
   "cell_type": "code",
   "execution_count": 5,
   "metadata": {},
   "outputs": [],
   "source": [
    "df['Year'] = df['Year'].astype(str).str.replace(r'[()]', '', regex=True)\n",
    "df['Year'] = pd.to_numeric(df['Year'], errors='coerce')"
   ]
  },
  {
   "cell_type": "code",
   "execution_count": 7,
   "metadata": {},
   "outputs": [],
   "source": [
    "# Convert Duration (remove \"min\", parse numeric)\n",
    "df['Duration'] = (\n",
    "    df['Duration'].astype(str)\n",
    "    .str.replace('min', '', regex=False)\n",
    "    .str.strip()\n",
    ")"
   ]
  },
  {
   "cell_type": "code",
   "execution_count": 8,
   "metadata": {},
   "outputs": [],
   "source": [
    "df['Duration'] = pd.to_numeric(df['Duration'], errors='coerce')"
   ]
  },
  {
   "cell_type": "code",
   "execution_count": 9,
   "metadata": {},
   "outputs": [],
   "source": [
    "# Convert Votes (remove commas, parse numeric)\n",
    "df['Votes'] = (\n",
    "    df['Votes'].astype(str)\n",
    "    .str.replace(',', '', regex=False)\n",
    "    .str.strip()\n",
    ")\n",
    "df['Votes'] = pd.to_numeric(df['Votes'], errors='coerce')\n"
   ]
  },
  {
   "cell_type": "code",
   "execution_count": 10,
   "metadata": {},
   "outputs": [
    {
     "name": "stderr",
     "output_type": "stream",
     "text": [
      "C:\\Users\\prakh\\AppData\\Local\\Temp\\ipykernel_22108\\3397706874.py:5: FutureWarning: A value is trying to be set on a copy of a DataFrame or Series through chained assignment using an inplace method.\n",
      "The behavior will change in pandas 3.0. This inplace method will never work because the intermediate object on which we are setting values always behaves as a copy.\n",
      "\n",
      "For example, when doing 'df[col].method(value, inplace=True)', try using 'df.method({col: value}, inplace=True)' or df[col] = df[col].method(value) instead, to perform the operation inplace on the original object.\n",
      "\n",
      "\n",
      "  df['Duration'].fillna(df['Duration'].median(), inplace=True)\n",
      "C:\\Users\\prakh\\AppData\\Local\\Temp\\ipykernel_22108\\3397706874.py:8: FutureWarning: A value is trying to be set on a copy of a DataFrame or Series through chained assignment using an inplace method.\n",
      "The behavior will change in pandas 3.0. This inplace method will never work because the intermediate object on which we are setting values always behaves as a copy.\n",
      "\n",
      "For example, when doing 'df[col].method(value, inplace=True)', try using 'df.method({col: value}, inplace=True)' or df[col] = df[col].method(value) instead, to perform the operation inplace on the original object.\n",
      "\n",
      "\n",
      "  df[cat_col].fillna('Unknown', inplace=True)\n"
     ]
    }
   ],
   "source": [
    "# Drop rows with no Rating\n",
    "df.dropna(subset=['Rating'], inplace=True)\n",
    "\n",
    "# Impute numeric columns\n",
    "df['Duration'].fillna(df['Duration'].median(), inplace=True)\n",
    "for cat_col in ['Genre', 'Director', 'Actor 1', 'Actor 2', 'Actor 3']:\n",
    "    if cat_col in df.columns:\n",
    "        df[cat_col].fillna('Unknown', inplace=True)\n"
   ]
  },
  {
   "cell_type": "code",
   "execution_count": 11,
   "metadata": {},
   "outputs": [],
   "source": [
    "# 3. FEATURE ENGINEERING\n",
    "# Log transform Votes\n",
    "df['Log_Votes'] = np.log1p(df['Votes'].fillna(0))\n",
    "\n",
    "# Create Decade\n",
    "df['Decade'] = (df['Year'] // 10) * 10\n",
    "\n",
    "# Split Genre into dummy columns\n",
    "if 'Genre' in df.columns:\n",
    "    df['Genre_List'] = df['Genre'].apply(lambda x: [g.strip() for g in x.split(',')])\n",
    "    mlb = MultiLabelBinarizer()\n",
    "    genre_dummies = mlb.fit_transform(df['Genre_List'])\n",
    "    genre_df = pd.DataFrame(genre_dummies, columns=mlb.classes_, index=df.index)\n",
    "    df = pd.concat([df, genre_df], axis=1)\n",
    "    df.drop(columns=['Genre_List'], inplace=True)\n"
   ]
  },
  {
   "cell_type": "code",
   "execution_count": 12,
   "metadata": {},
   "outputs": [],
   "source": [
    "# 4. DEFINE FEATURES AND TARGET\n",
    "genre_cols = [\n",
    "    'Action','Adventure','Animation','Biography','Comedy','Crime','Documentary',\n",
    "    'Drama','Family','Fantasy','History','Horror','Music','Musical','Mystery',\n",
    "    'News','Romance','Sci-Fi','Sport','Thriller','Unknown','War','Western'\n",
    "]\n",
    "features = ['Duration', 'Log_Votes', 'Decade'] + genre_cols\n",
    "target = 'Rating'\n",
    "\n",
    "df = df.dropna(subset=features)  # Ensure no NaNs in features\n",
    "X = df[features].copy()\n",
    "y = df[target].copy()\n"
   ]
  },
  {
   "cell_type": "code",
   "execution_count": 13,
   "metadata": {},
   "outputs": [],
   "source": [
    "# 5. TRAIN/TEST SPLIT\n",
    "X_train, X_test, y_train, y_test = train_test_split(\n",
    "    X, y, test_size=0.2, random_state=42\n",
    ")"
   ]
  },
  {
   "cell_type": "code",
   "execution_count": 14,
   "metadata": {},
   "outputs": [],
   "source": [
    "# 6. XGBOOST WITH RANDOMIZEDSEARCHCV\n",
    "param_dist = {\n",
    "    'n_estimators': [100, 200, 300],\n",
    "    'max_depth': [3, 5, 7, 10],\n",
    "    'learning_rate': [0.01, 0.05, 0.1],\n",
    "    'subsample': [0.6, 0.8, 1.0],\n",
    "    'colsample_bytree': [0.6, 0.8, 1.0],\n",
    "    'min_child_weight': [1, 3, 5]\n",
    "}\n"
   ]
  },
  {
   "cell_type": "code",
   "execution_count": 15,
   "metadata": {},
   "outputs": [],
   "source": [
    "xgb_model = XGBRegressor(random_state=42)\n",
    "\n",
    "search = RandomizedSearchCV(\n",
    "    xgb_model,\n",
    "    param_distributions=param_dist,\n",
    "    n_iter=10,\n",
    "    scoring='neg_mean_squared_error',\n",
    "    cv=3,\n",
    "    random_state=42,\n",
    "    n_jobs=-1\n",
    ")\n",
    "search.fit(X_train, y_train)\n",
    "\n",
    "best_model = search.best_estimator_\n",
    "y_pred = best_model.predict(X_test)\n"
   ]
  },
  {
   "cell_type": "code",
   "execution_count": 16,
   "metadata": {},
   "outputs": [
    {
     "name": "stdout",
     "output_type": "stream",
     "text": [
      "BEST PARAMETERS: {'subsample': 1.0, 'n_estimators': 300, 'min_child_weight': 5, 'max_depth': 5, 'learning_rate': 0.05, 'colsample_bytree': 0.8}\n",
      "RMSE: 1.074\n",
      "R^2:  0.380\n"
     ]
    }
   ],
   "source": [
    "# 7. EVALUATION\n",
    "mse = mean_squared_error(y_test, y_pred)\n",
    "rmse = np.sqrt(mse)\n",
    "r2 = r2_score(y_test, y_pred)\n",
    "\n",
    "print(\"BEST PARAMETERS:\", search.best_params_)\n",
    "print(f\"RMSE: {rmse:.3f}\")\n",
    "print(f\"R^2:  {r2:.3f}\")"
   ]
  }
 ],
 "metadata": {
  "kernelspec": {
   "display_name": "Python 3",
   "language": "python",
   "name": "python3"
  },
  "language_info": {
   "codemirror_mode": {
    "name": "ipython",
    "version": 3
   },
   "file_extension": ".py",
   "mimetype": "text/x-python",
   "name": "python",
   "nbconvert_exporter": "python",
   "pygments_lexer": "ipython3",
   "version": "3.9.7"
  }
 },
 "nbformat": 4,
 "nbformat_minor": 2
}
